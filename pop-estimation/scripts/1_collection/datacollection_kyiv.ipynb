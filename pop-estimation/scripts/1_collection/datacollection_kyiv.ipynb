{
  "nbformat": 4,
  "nbformat_minor": 0,
  "metadata": {
    "colab": {
      "provenance": [],
      "authorship_tag": "ABX9TyOhNCV0f1BEHLBCsNxSMWbA"
    },
    "kernelspec": {
      "name": "python3",
      "display_name": "Python 3"
    },
    "language_info": {
      "name": "python"
    },
    "gpuClass": "standard"
  },
  "cells": [
    {
      "cell_type": "markdown",
      "source": [
        "# Satellite Imagery from Sentinel 2"
      ],
      "metadata": {
        "id": "uC49_kPteBd3"
      }
    },
    {
      "cell_type": "markdown",
      "source": [
        "Before running the notebook, do the following steps first (following instructions and code [here](https://github.com/artefactory/medium_satellite_imagery)):\n",
        "\n",
        "*   create a geojson file of the zone you want a satellite imagery of and save it in 1_collection/city.geojson\n",
        "*   create an account at Coppernicus Open Access Hub. Write the username and the password in a json file and save it in 1_collection/sentinel_api_credentials.json. Format: {\"username\": \"XXXX\", \"password\": \"XXXX\"}\n",
        "\n",
        "\n"
      ],
      "metadata": {
        "id": "WazlAOveN7LF"
      }
    },
    {
      "cell_type": "markdown",
      "source": [
        "## Step 0: Requirements & Dependencies"
      ],
      "metadata": {
        "id": "Gjl_P7lSGI_F"
      }
    },
    {
      "cell_type": "code",
      "execution_count": null,
      "metadata": {
        "colab": {
          "base_uri": "https://localhost:8080/"
        },
        "id": "fBJ1YGU19n0z",
        "outputId": "3edba80a-f0e3-45ea-fcdb-5b95fb5706cd"
      },
      "outputs": [
        {
          "output_type": "stream",
          "name": "stdout",
          "text": [
            "Mounted at /content/drive\n"
          ]
        }
      ],
      "source": [
        "from google.colab import drive\n",
        "drive.mount('/content/drive')"
      ]
    },
    {
      "cell_type": "code",
      "source": [
        "!pip install rasterio\n",
        "!pip install sentinelsat"
      ],
      "metadata": {
        "id": "p66PiaNW-mnE"
      },
      "execution_count": null,
      "outputs": []
    },
    {
      "cell_type": "code",
      "source": [
        "import os \n",
        "import cv2\n",
        "from datetime import date\n",
        "import json\n",
        "import itertools\n",
        "import rasterio\n",
        "import matplotlib.pyplot as plt\n",
        "import numpy as np\n",
        "from sentinelsat import SentinelAPI, read_geojson, geojson_to_wkt\n",
        "import pandas as pd"
      ],
      "metadata": {
        "id": "HJ5WJfov9zOk"
      },
      "execution_count": null,
      "outputs": []
    },
    {
      "cell_type": "markdown",
      "source": [
        "## Step 1: Authentication with Copernicus Open Access Hub"
      ],
      "metadata": {
        "id": "g3RlUinMHSXX"
      }
    },
    {
      "cell_type": "code",
      "source": [
        "with open(\"./sentinel_api_credentials.json\", \"r\") as infile:\n",
        "    credentials = json.load(infile)\n",
        "\n",
        "api = SentinelAPI(credentials[\"username\"], credentials[\"password\"], \"https://scihub.copernicus.eu/dhus\")"
      ],
      "metadata": {
        "id": "8sKc9tJgHYca"
      },
      "execution_count": null,
      "outputs": []
    },
    {
      "cell_type": "markdown",
      "source": [
        "## Step 2: Define area of interest in a geojson file"
      ],
      "metadata": {
        "id": "rmxY1iMHGunG"
      }
    },
    {
      "cell_type": "markdown",
      "source": [
        "A way to specify the zones you want to explore is to provide the API with a geojson file, which is a json containing GPS coordinates position (latitude and longitude) of a zone. Geojson can be quickly created on this [website](https://geojson.io/#map=2/20/0)."
      ],
      "metadata": {
        "id": "aJtiLOOiHgMW"
      }
    },
    {
      "cell_type": "code",
      "source": [
        "geojson_path = \"./kyiv.geojson\""
      ],
      "metadata": {
        "id": "77fVu8R3Gh6i"
      },
      "execution_count": null,
      "outputs": []
    },
    {
      "cell_type": "markdown",
      "source": [
        "## Step 3: Query satellite images via Sentinelsat API"
      ],
      "metadata": {
        "id": "4sbiwfWGH9s8"
      }
    },
    {
      "cell_type": "code",
      "source": [
        "shape = geojson_to_wkt(read_geojson(geojson_path))\n",
        "\n",
        "images = api.query(\n",
        "    shape,\n",
        "    date=(date(2021, 9, 1), date(2022, 1, 30)),\n",
        "    platformname=\"Sentinel-2\",\n",
        "    processinglevel = \"Level-2A\",\n",
        "    cloudcoverpercentage=(0, 5)\n",
        ")\n",
        "\n",
        "images_df = api.to_dataframe(images)"
      ],
      "metadata": {
        "id": "mIqJ94auBov3"
      },
      "execution_count": null,
      "outputs": []
    },
    {
      "cell_type": "markdown",
      "source": [
        "We can use the is_online() function from the sentinelsat package to filter the queried images that are available online. A for loop iterates over the images dictionary and checks if each image is online. "
      ],
      "metadata": {
        "id": "GqLjx4_bHNZX"
      }
    },
    {
      "cell_type": "code",
      "source": [
        "online_images = {}\n",
        "for id, item in images.items():\n",
        "    if api.is_online(id):\n",
        "        online_images[id] = item\n",
        "\n",
        "# Convert the filtered images to a dataframe\n",
        "online_images_df = api.to_dataframe(online_images)"
      ],
      "metadata": {
        "id": "QW79HxVWGzbz"
      },
      "execution_count": null,
      "outputs": []
    },
    {
      "cell_type": "code",
      "source": [
        "key_columns = [\"platformserialidentifier\", \"processinglevel\", \"cloudcoverpercentage\", \n",
        "               \"vegetationpercentage\", \"beginposition\"]\n",
        "online_images_df = online_images_df.sort_values(by=['cloudcoverpercentage'], ascending=True)\n",
        "online_images_df[key_columns].head(5)"
      ],
      "metadata": {
        "colab": {
          "base_uri": "https://localhost:8080/",
          "height": 206
        },
        "id": "oZViMzEyHF5K",
        "outputId": "2bca23ba-6590-4973-8506-cac6714c8f11"
      },
      "execution_count": null,
      "outputs": [
        {
          "output_type": "execute_result",
          "data": {
            "text/plain": [
              "                                     platformserialidentifier processinglevel  \\\n",
              "0194bc53-5048-46c5-8d9e-135fcca9a15d              Sentinel-2A        Level-2A   \n",
              "efb95b8c-acaf-4012-ae90-2e7dd4a336ae              Sentinel-2A        Level-2A   \n",
              "09b4ef40-2eb0-4fcf-bf31-0fb1588def6c              Sentinel-2A        Level-2A   \n",
              "1c4cdac1-6a69-46ad-b088-56a1a6888a47              Sentinel-2A        Level-2A   \n",
              "b6fd658c-4e7e-4bff-a7e2-d71d1850f04a              Sentinel-2B        Level-2A   \n",
              "\n",
              "                                      cloudcoverpercentage  \\\n",
              "0194bc53-5048-46c5-8d9e-135fcca9a15d              0.030464   \n",
              "efb95b8c-acaf-4012-ae90-2e7dd4a336ae              0.123288   \n",
              "09b4ef40-2eb0-4fcf-bf31-0fb1588def6c              0.334950   \n",
              "1c4cdac1-6a69-46ad-b088-56a1a6888a47              0.460456   \n",
              "b6fd658c-4e7e-4bff-a7e2-d71d1850f04a              1.362930   \n",
              "\n",
              "                                      vegetationpercentage  \\\n",
              "0194bc53-5048-46c5-8d9e-135fcca9a15d             19.858183   \n",
              "efb95b8c-acaf-4012-ae90-2e7dd4a336ae             66.410869   \n",
              "09b4ef40-2eb0-4fcf-bf31-0fb1588def6c              5.633983   \n",
              "1c4cdac1-6a69-46ad-b088-56a1a6888a47              4.522084   \n",
              "b6fd658c-4e7e-4bff-a7e2-d71d1850f04a              8.289550   \n",
              "\n",
              "                                               beginposition  \n",
              "0194bc53-5048-46c5-8d9e-135fcca9a15d 2021-11-01 09:11:31.024  \n",
              "efb95b8c-acaf-4012-ae90-2e7dd4a336ae 2021-09-09 08:56:01.024  \n",
              "09b4ef40-2eb0-4fcf-bf31-0fb1588def6c 2021-11-01 09:11:31.024  \n",
              "1c4cdac1-6a69-46ad-b088-56a1a6888a47 2021-11-01 09:11:31.024  \n",
              "b6fd658c-4e7e-4bff-a7e2-d71d1850f04a 2022-01-02 09:02:59.024  "
            ],
            "text/html": [
              "\n",
              "  <div id=\"df-d688488a-4e5d-4b90-8bd6-ef4380a9119c\">\n",
              "    <div class=\"colab-df-container\">\n",
              "      <div>\n",
              "<style scoped>\n",
              "    .dataframe tbody tr th:only-of-type {\n",
              "        vertical-align: middle;\n",
              "    }\n",
              "\n",
              "    .dataframe tbody tr th {\n",
              "        vertical-align: top;\n",
              "    }\n",
              "\n",
              "    .dataframe thead th {\n",
              "        text-align: right;\n",
              "    }\n",
              "</style>\n",
              "<table border=\"1\" class=\"dataframe\">\n",
              "  <thead>\n",
              "    <tr style=\"text-align: right;\">\n",
              "      <th></th>\n",
              "      <th>platformserialidentifier</th>\n",
              "      <th>processinglevel</th>\n",
              "      <th>cloudcoverpercentage</th>\n",
              "      <th>vegetationpercentage</th>\n",
              "      <th>beginposition</th>\n",
              "    </tr>\n",
              "  </thead>\n",
              "  <tbody>\n",
              "    <tr>\n",
              "      <th>0194bc53-5048-46c5-8d9e-135fcca9a15d</th>\n",
              "      <td>Sentinel-2A</td>\n",
              "      <td>Level-2A</td>\n",
              "      <td>0.030464</td>\n",
              "      <td>19.858183</td>\n",
              "      <td>2021-11-01 09:11:31.024</td>\n",
              "    </tr>\n",
              "    <tr>\n",
              "      <th>efb95b8c-acaf-4012-ae90-2e7dd4a336ae</th>\n",
              "      <td>Sentinel-2A</td>\n",
              "      <td>Level-2A</td>\n",
              "      <td>0.123288</td>\n",
              "      <td>66.410869</td>\n",
              "      <td>2021-09-09 08:56:01.024</td>\n",
              "    </tr>\n",
              "    <tr>\n",
              "      <th>09b4ef40-2eb0-4fcf-bf31-0fb1588def6c</th>\n",
              "      <td>Sentinel-2A</td>\n",
              "      <td>Level-2A</td>\n",
              "      <td>0.334950</td>\n",
              "      <td>5.633983</td>\n",
              "      <td>2021-11-01 09:11:31.024</td>\n",
              "    </tr>\n",
              "    <tr>\n",
              "      <th>1c4cdac1-6a69-46ad-b088-56a1a6888a47</th>\n",
              "      <td>Sentinel-2A</td>\n",
              "      <td>Level-2A</td>\n",
              "      <td>0.460456</td>\n",
              "      <td>4.522084</td>\n",
              "      <td>2021-11-01 09:11:31.024</td>\n",
              "    </tr>\n",
              "    <tr>\n",
              "      <th>b6fd658c-4e7e-4bff-a7e2-d71d1850f04a</th>\n",
              "      <td>Sentinel-2B</td>\n",
              "      <td>Level-2A</td>\n",
              "      <td>1.362930</td>\n",
              "      <td>8.289550</td>\n",
              "      <td>2022-01-02 09:02:59.024</td>\n",
              "    </tr>\n",
              "  </tbody>\n",
              "</table>\n",
              "</div>\n",
              "      <button class=\"colab-df-convert\" onclick=\"convertToInteractive('df-d688488a-4e5d-4b90-8bd6-ef4380a9119c')\"\n",
              "              title=\"Convert this dataframe to an interactive table.\"\n",
              "              style=\"display:none;\">\n",
              "        \n",
              "  <svg xmlns=\"http://www.w3.org/2000/svg\" height=\"24px\"viewBox=\"0 0 24 24\"\n",
              "       width=\"24px\">\n",
              "    <path d=\"M0 0h24v24H0V0z\" fill=\"none\"/>\n",
              "    <path d=\"M18.56 5.44l.94 2.06.94-2.06 2.06-.94-2.06-.94-.94-2.06-.94 2.06-2.06.94zm-11 1L8.5 8.5l.94-2.06 2.06-.94-2.06-.94L8.5 2.5l-.94 2.06-2.06.94zm10 10l.94 2.06.94-2.06 2.06-.94-2.06-.94-.94-2.06-.94 2.06-2.06.94z\"/><path d=\"M17.41 7.96l-1.37-1.37c-.4-.4-.92-.59-1.43-.59-.52 0-1.04.2-1.43.59L10.3 9.45l-7.72 7.72c-.78.78-.78 2.05 0 2.83L4 21.41c.39.39.9.59 1.41.59.51 0 1.02-.2 1.41-.59l7.78-7.78 2.81-2.81c.8-.78.8-2.07 0-2.86zM5.41 20L4 18.59l7.72-7.72 1.47 1.35L5.41 20z\"/>\n",
              "  </svg>\n",
              "      </button>\n",
              "      \n",
              "  <style>\n",
              "    .colab-df-container {\n",
              "      display:flex;\n",
              "      flex-wrap:wrap;\n",
              "      gap: 12px;\n",
              "    }\n",
              "\n",
              "    .colab-df-convert {\n",
              "      background-color: #E8F0FE;\n",
              "      border: none;\n",
              "      border-radius: 50%;\n",
              "      cursor: pointer;\n",
              "      display: none;\n",
              "      fill: #1967D2;\n",
              "      height: 32px;\n",
              "      padding: 0 0 0 0;\n",
              "      width: 32px;\n",
              "    }\n",
              "\n",
              "    .colab-df-convert:hover {\n",
              "      background-color: #E2EBFA;\n",
              "      box-shadow: 0px 1px 2px rgba(60, 64, 67, 0.3), 0px 1px 3px 1px rgba(60, 64, 67, 0.15);\n",
              "      fill: #174EA6;\n",
              "    }\n",
              "\n",
              "    [theme=dark] .colab-df-convert {\n",
              "      background-color: #3B4455;\n",
              "      fill: #D2E3FC;\n",
              "    }\n",
              "\n",
              "    [theme=dark] .colab-df-convert:hover {\n",
              "      background-color: #434B5C;\n",
              "      box-shadow: 0px 1px 3px 1px rgba(0, 0, 0, 0.15);\n",
              "      filter: drop-shadow(0px 1px 2px rgba(0, 0, 0, 0.3));\n",
              "      fill: #FFFFFF;\n",
              "    }\n",
              "  </style>\n",
              "\n",
              "      <script>\n",
              "        const buttonEl =\n",
              "          document.querySelector('#df-d688488a-4e5d-4b90-8bd6-ef4380a9119c button.colab-df-convert');\n",
              "        buttonEl.style.display =\n",
              "          google.colab.kernel.accessAllowed ? 'block' : 'none';\n",
              "\n",
              "        async function convertToInteractive(key) {\n",
              "          const element = document.querySelector('#df-d688488a-4e5d-4b90-8bd6-ef4380a9119c');\n",
              "          const dataTable =\n",
              "            await google.colab.kernel.invokeFunction('convertToInteractive',\n",
              "                                                     [key], {});\n",
              "          if (!dataTable) return;\n",
              "\n",
              "          const docLinkHtml = 'Like what you see? Visit the ' +\n",
              "            '<a target=\"_blank\" href=https://colab.research.google.com/notebooks/data_table.ipynb>data table notebook</a>'\n",
              "            + ' to learn more about interactive tables.';\n",
              "          element.innerHTML = '';\n",
              "          dataTable['output_type'] = 'display_data';\n",
              "          await google.colab.output.renderOutput(dataTable, element);\n",
              "          const docLink = document.createElement('div');\n",
              "          docLink.innerHTML = docLinkHtml;\n",
              "          element.appendChild(docLink);\n",
              "        }\n",
              "      </script>\n",
              "    </div>\n",
              "  </div>\n",
              "  "
            ]
          },
          "metadata": {},
          "execution_count": 11
        }
      ]
    },
    {
      "cell_type": "markdown",
      "source": [
        "##  Step 4: Download satellite image"
      ],
      "metadata": {
        "id": "wTeFjtsmHZRq"
      }
    },
    {
      "cell_type": "code",
      "source": [
        "uuid = \"efb95b8c-acaf-4012-ae90-2e7dd4a336ae\"\n",
        "api.download(uuid)"
      ],
      "metadata": {
        "id": "AzZpegt1C6hy"
      },
      "execution_count": null,
      "outputs": []
    },
    {
      "cell_type": "markdown",
      "source": [
        "## Step 5: Unzip satellite image and save to folder"
      ],
      "metadata": {
        "id": "aY_u1kvwQHLW"
      }
    },
    {
      "cell_type": "code",
      "source": [
        "!unzip /content/S2A_MSIL2A_20210909T085601_N0301_R007_T35UQR_20210909T120232.zip -d ../data/sentinel2/kyiv"
      ],
      "metadata": {
        "id": "3TINyrD3KtRp"
      },
      "execution_count": null,
      "outputs": []
    },
    {
      "cell_type": "markdown",
      "source": [
        "# Credits"
      ],
      "metadata": {
        "id": "-VY-4etgNccs"
      }
    },
    {
      "cell_type": "markdown",
      "source": [
        "*   Antoine Aubay (2021): Leveraging satellite imagery for machine learning computer vision applications. Available at: https://medium.com/artefact-engineering-and-data-science/leveraging-satellite-imagery-for-machine-learning-computer-vision-applications-d22143f72d94\n",
        "\n"
      ],
      "metadata": {
        "id": "SSgD2vtNNdTB"
      }
    }
  ]
}