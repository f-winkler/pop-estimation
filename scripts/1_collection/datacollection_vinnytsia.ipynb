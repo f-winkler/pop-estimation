{
  "nbformat": 4,
  "nbformat_minor": 0,
  "metadata": {
    "colab": {
      "provenance": [],
      "authorship_tag": "ABX9TyPL1ghW5S1uz1BPO4tWqw84"
    },
    "kernelspec": {
      "name": "python3",
      "display_name": "Python 3"
    },
    "language_info": {
      "name": "python"
    },
    "gpuClass": "standard"
  },
  "cells": [
    {
      "cell_type": "markdown",
      "source": [
        "# Satellite Imagery from Sentinel 2"
      ],
      "metadata": {
        "id": "uC49_kPteBd3"
      }
    },
    {
      "cell_type": "markdown",
      "source": [
        "Before running the notebook, do the following steps first (following instructions and code [here](https://github.com/artefactory/medium_satellite_imagery)):\n",
        "\n",
        "*   create a geojson file of the zone you want a satellite imagery of and save it in 1_collection/city.geojson\n",
        "*   create an account at Coppernicus Open Access Hub. Write the username and the password in a json file and save it in 1_collection/sentinel_api_credentials.json. Format: {\"username\": \"XXXX\", \"password\": \"XXXX\"}\n",
        "\n",
        "\n"
      ],
      "metadata": {
        "id": "WazlAOveN7LF"
      }
    },
    {
      "cell_type": "markdown",
      "source": [
        "## Step 0: Requirements & Dependencies"
      ],
      "metadata": {
        "id": "Gjl_P7lSGI_F"
      }
    },
    {
      "cell_type": "code",
      "execution_count": null,
      "metadata": {
        "colab": {
          "base_uri": "https://localhost:8080/"
        },
        "id": "fBJ1YGU19n0z",
        "outputId": "3edba80a-f0e3-45ea-fcdb-5b95fb5706cd"
      },
      "outputs": [
        {
          "output_type": "stream",
          "name": "stdout",
          "text": [
            "Mounted at /content/drive\n"
          ]
        }
      ],
      "source": [
        "from google.colab import drive\n",
        "drive.mount('/content/drive')"
      ]
    },
    {
      "cell_type": "code",
      "source": [
        "!pip install rasterio\n",
        "!pip install sentinelsat"
      ],
      "metadata": {
        "id": "p66PiaNW-mnE"
      },
      "execution_count": null,
      "outputs": []
    },
    {
      "cell_type": "code",
      "source": [
        "import os \n",
        "import cv2\n",
        "from datetime import date\n",
        "import json\n",
        "import itertools\n",
        "import rasterio\n",
        "import matplotlib.pyplot as plt\n",
        "import numpy as np\n",
        "from sentinelsat import SentinelAPI, read_geojson, geojson_to_wkt\n",
        "import pandas as pd"
      ],
      "metadata": {
        "id": "HJ5WJfov9zOk"
      },
      "execution_count": null,
      "outputs": []
    },
    {
      "cell_type": "markdown",
      "source": [
        "## Step 1: Authentication with Copernicus Open Access Hub"
      ],
      "metadata": {
        "id": "g3RlUinMHSXX"
      }
    },
    {
      "cell_type": "code",
      "source": [
        "with open(\"./sentinel_api_credentials.json\", \"r\") as infile:\n",
        "    credentials = json.load(infile)\n",
        "\n",
        "api = SentinelAPI(credentials[\"username\"], credentials[\"password\"], \"https://scihub.copernicus.eu/dhus\")"
      ],
      "metadata": {
        "id": "8sKc9tJgHYca"
      },
      "execution_count": null,
      "outputs": []
    },
    {
      "cell_type": "markdown",
      "source": [
        "## Step 2: Define area of interest in a geojson file"
      ],
      "metadata": {
        "id": "rmxY1iMHGunG"
      }
    },
    {
      "cell_type": "markdown",
      "source": [
        "A way to specify the zones you want to explore is to provide the API with a geojson file, which is a json containing GPS coordinates position (latitude and longitude) of a zone. Geojson can be quickly created on this [website](https://geojson.io/#map=2/20/0)."
      ],
      "metadata": {
        "id": "aJtiLOOiHgMW"
      }
    },
    {
      "cell_type": "code",
      "source": [
        "geojson_path = \"./vinnytsia.geojson\""
      ],
      "metadata": {
        "id": "77fVu8R3Gh6i"
      },
      "execution_count": null,
      "outputs": []
    },
    {
      "cell_type": "markdown",
      "source": [
        "## Step 3: Query satellite images via Sentinelsat API"
      ],
      "metadata": {
        "id": "4sbiwfWGH9s8"
      }
    },
    {
      "cell_type": "code",
      "source": [
        "shape = geojson_to_wkt(read_geojson(geojson_path))\n",
        "\n",
        "images = api.query(\n",
        "    shape,\n",
        "    date=(date(2021, 1, 1), date(2022, 1, 30)),\n",
        "    platformname=\"Sentinel-2\",\n",
        "    processinglevel = \"Level-2A\",\n",
        "    cloudcoverpercentage=(0, 5)\n",
        ")\n",
        "\n",
        "images_df = api.to_dataframe(images)"
      ],
      "metadata": {
        "id": "mIqJ94auBov3"
      },
      "execution_count": null,
      "outputs": []
    },
    {
      "cell_type": "markdown",
      "source": [
        "We can use the is_online() function from the sentinelsat package to filter the queried images that are available online. A for loop iterates over the images dictionary and checks if each image is online. "
      ],
      "metadata": {
        "id": "GqLjx4_bHNZX"
      }
    },
    {
      "cell_type": "code",
      "source": [
        "online_images = {}\n",
        "for id, item in images.items():\n",
        "    if api.is_online(id):\n",
        "        online_images[id] = item\n",
        "\n",
        "# Convert the filtered images to a dataframe\n",
        "online_images_df = api.to_dataframe(online_images)"
      ],
      "metadata": {
        "id": "QW79HxVWGzbz"
      },
      "execution_count": null,
      "outputs": []
    },
    {
      "cell_type": "code",
      "source": [
        "key_columns = [\"platformserialidentifier\", \"processinglevel\", \"cloudcoverpercentage\", \n",
        "               \"vegetationpercentage\", \"beginposition\"]\n",
        "online_images_df = online_images_df.sort_values(by=['cloudcoverpercentage'], ascending=True)\n",
        "online_images_df[key_columns].head(5)"
      ],
      "metadata": {
        "colab": {
          "base_uri": "https://localhost:8080/",
          "height": 206
        },
        "id": "oZViMzEyHF5K",
        "outputId": "190c166c-0681-4821-d976-2f16069869d2"
      },
      "execution_count": null,
      "outputs": [
        {
          "output_type": "execute_result",
          "data": {
            "text/plain": [
              "                                     platformserialidentifier processinglevel  \\\n",
              "02bae0c5-d47f-4f00-94db-2bf7005196f7              Sentinel-2B        Level-2A   \n",
              "447797aa-e70b-4105-8b5e-ce72b3b79149              Sentinel-2B        Level-2A   \n",
              "d4a9ee7e-f8e5-43b6-b6e8-6edfab580f1b              Sentinel-2B        Level-2A   \n",
              "296fbe58-3c6b-4c58-b970-050244a71fec              Sentinel-2B        Level-2A   \n",
              "190b3f86-4b0f-448f-a1d9-051dbfdd9e40              Sentinel-2B        Level-2A   \n",
              "\n",
              "                                      cloudcoverpercentage  \\\n",
              "02bae0c5-d47f-4f00-94db-2bf7005196f7              0.011257   \n",
              "447797aa-e70b-4105-8b5e-ce72b3b79149              0.011370   \n",
              "d4a9ee7e-f8e5-43b6-b6e8-6edfab580f1b              0.035212   \n",
              "296fbe58-3c6b-4c58-b970-050244a71fec              0.078759   \n",
              "190b3f86-4b0f-448f-a1d9-051dbfdd9e40              0.101761   \n",
              "\n",
              "                                      vegetationpercentage  \\\n",
              "02bae0c5-d47f-4f00-94db-2bf7005196f7             49.927589   \n",
              "447797aa-e70b-4105-8b5e-ce72b3b79149             95.476073   \n",
              "d4a9ee7e-f8e5-43b6-b6e8-6edfab580f1b             94.082057   \n",
              "296fbe58-3c6b-4c58-b970-050244a71fec             14.998293   \n",
              "190b3f86-4b0f-448f-a1d9-051dbfdd9e40             15.382813   \n",
              "\n",
              "                                               beginposition  \n",
              "02bae0c5-d47f-4f00-94db-2bf7005196f7 2021-05-10 09:05:49.024  \n",
              "447797aa-e70b-4105-8b5e-ce72b3b79149 2021-07-09 09:05:59.024  \n",
              "d4a9ee7e-f8e5-43b6-b6e8-6edfab580f1b 2021-07-09 09:05:59.024  \n",
              "296fbe58-3c6b-4c58-b970-050244a71fec 2021-04-10 09:05:49.024  \n",
              "190b3f86-4b0f-448f-a1d9-051dbfdd9e40 2021-04-10 09:05:49.024  "
            ],
            "text/html": [
              "\n",
              "  <div id=\"df-101a7742-9f6d-40ae-93a8-55dcd08c44e7\">\n",
              "    <div class=\"colab-df-container\">\n",
              "      <div>\n",
              "<style scoped>\n",
              "    .dataframe tbody tr th:only-of-type {\n",
              "        vertical-align: middle;\n",
              "    }\n",
              "\n",
              "    .dataframe tbody tr th {\n",
              "        vertical-align: top;\n",
              "    }\n",
              "\n",
              "    .dataframe thead th {\n",
              "        text-align: right;\n",
              "    }\n",
              "</style>\n",
              "<table border=\"1\" class=\"dataframe\">\n",
              "  <thead>\n",
              "    <tr style=\"text-align: right;\">\n",
              "      <th></th>\n",
              "      <th>platformserialidentifier</th>\n",
              "      <th>processinglevel</th>\n",
              "      <th>cloudcoverpercentage</th>\n",
              "      <th>vegetationpercentage</th>\n",
              "      <th>beginposition</th>\n",
              "    </tr>\n",
              "  </thead>\n",
              "  <tbody>\n",
              "    <tr>\n",
              "      <th>02bae0c5-d47f-4f00-94db-2bf7005196f7</th>\n",
              "      <td>Sentinel-2B</td>\n",
              "      <td>Level-2A</td>\n",
              "      <td>0.011257</td>\n",
              "      <td>49.927589</td>\n",
              "      <td>2021-05-10 09:05:49.024</td>\n",
              "    </tr>\n",
              "    <tr>\n",
              "      <th>447797aa-e70b-4105-8b5e-ce72b3b79149</th>\n",
              "      <td>Sentinel-2B</td>\n",
              "      <td>Level-2A</td>\n",
              "      <td>0.011370</td>\n",
              "      <td>95.476073</td>\n",
              "      <td>2021-07-09 09:05:59.024</td>\n",
              "    </tr>\n",
              "    <tr>\n",
              "      <th>d4a9ee7e-f8e5-43b6-b6e8-6edfab580f1b</th>\n",
              "      <td>Sentinel-2B</td>\n",
              "      <td>Level-2A</td>\n",
              "      <td>0.035212</td>\n",
              "      <td>94.082057</td>\n",
              "      <td>2021-07-09 09:05:59.024</td>\n",
              "    </tr>\n",
              "    <tr>\n",
              "      <th>296fbe58-3c6b-4c58-b970-050244a71fec</th>\n",
              "      <td>Sentinel-2B</td>\n",
              "      <td>Level-2A</td>\n",
              "      <td>0.078759</td>\n",
              "      <td>14.998293</td>\n",
              "      <td>2021-04-10 09:05:49.024</td>\n",
              "    </tr>\n",
              "    <tr>\n",
              "      <th>190b3f86-4b0f-448f-a1d9-051dbfdd9e40</th>\n",
              "      <td>Sentinel-2B</td>\n",
              "      <td>Level-2A</td>\n",
              "      <td>0.101761</td>\n",
              "      <td>15.382813</td>\n",
              "      <td>2021-04-10 09:05:49.024</td>\n",
              "    </tr>\n",
              "  </tbody>\n",
              "</table>\n",
              "</div>\n",
              "      <button class=\"colab-df-convert\" onclick=\"convertToInteractive('df-101a7742-9f6d-40ae-93a8-55dcd08c44e7')\"\n",
              "              title=\"Convert this dataframe to an interactive table.\"\n",
              "              style=\"display:none;\">\n",
              "        \n",
              "  <svg xmlns=\"http://www.w3.org/2000/svg\" height=\"24px\"viewBox=\"0 0 24 24\"\n",
              "       width=\"24px\">\n",
              "    <path d=\"M0 0h24v24H0V0z\" fill=\"none\"/>\n",
              "    <path d=\"M18.56 5.44l.94 2.06.94-2.06 2.06-.94-2.06-.94-.94-2.06-.94 2.06-2.06.94zm-11 1L8.5 8.5l.94-2.06 2.06-.94-2.06-.94L8.5 2.5l-.94 2.06-2.06.94zm10 10l.94 2.06.94-2.06 2.06-.94-2.06-.94-.94-2.06-.94 2.06-2.06.94z\"/><path d=\"M17.41 7.96l-1.37-1.37c-.4-.4-.92-.59-1.43-.59-.52 0-1.04.2-1.43.59L10.3 9.45l-7.72 7.72c-.78.78-.78 2.05 0 2.83L4 21.41c.39.39.9.59 1.41.59.51 0 1.02-.2 1.41-.59l7.78-7.78 2.81-2.81c.8-.78.8-2.07 0-2.86zM5.41 20L4 18.59l7.72-7.72 1.47 1.35L5.41 20z\"/>\n",
              "  </svg>\n",
              "      </button>\n",
              "      \n",
              "  <style>\n",
              "    .colab-df-container {\n",
              "      display:flex;\n",
              "      flex-wrap:wrap;\n",
              "      gap: 12px;\n",
              "    }\n",
              "\n",
              "    .colab-df-convert {\n",
              "      background-color: #E8F0FE;\n",
              "      border: none;\n",
              "      border-radius: 50%;\n",
              "      cursor: pointer;\n",
              "      display: none;\n",
              "      fill: #1967D2;\n",
              "      height: 32px;\n",
              "      padding: 0 0 0 0;\n",
              "      width: 32px;\n",
              "    }\n",
              "\n",
              "    .colab-df-convert:hover {\n",
              "      background-color: #E2EBFA;\n",
              "      box-shadow: 0px 1px 2px rgba(60, 64, 67, 0.3), 0px 1px 3px 1px rgba(60, 64, 67, 0.15);\n",
              "      fill: #174EA6;\n",
              "    }\n",
              "\n",
              "    [theme=dark] .colab-df-convert {\n",
              "      background-color: #3B4455;\n",
              "      fill: #D2E3FC;\n",
              "    }\n",
              "\n",
              "    [theme=dark] .colab-df-convert:hover {\n",
              "      background-color: #434B5C;\n",
              "      box-shadow: 0px 1px 3px 1px rgba(0, 0, 0, 0.15);\n",
              "      filter: drop-shadow(0px 1px 2px rgba(0, 0, 0, 0.3));\n",
              "      fill: #FFFFFF;\n",
              "    }\n",
              "  </style>\n",
              "\n",
              "      <script>\n",
              "        const buttonEl =\n",
              "          document.querySelector('#df-101a7742-9f6d-40ae-93a8-55dcd08c44e7 button.colab-df-convert');\n",
              "        buttonEl.style.display =\n",
              "          google.colab.kernel.accessAllowed ? 'block' : 'none';\n",
              "\n",
              "        async function convertToInteractive(key) {\n",
              "          const element = document.querySelector('#df-101a7742-9f6d-40ae-93a8-55dcd08c44e7');\n",
              "          const dataTable =\n",
              "            await google.colab.kernel.invokeFunction('convertToInteractive',\n",
              "                                                     [key], {});\n",
              "          if (!dataTable) return;\n",
              "\n",
              "          const docLinkHtml = 'Like what you see? Visit the ' +\n",
              "            '<a target=\"_blank\" href=https://colab.research.google.com/notebooks/data_table.ipynb>data table notebook</a>'\n",
              "            + ' to learn more about interactive tables.';\n",
              "          element.innerHTML = '';\n",
              "          dataTable['output_type'] = 'display_data';\n",
              "          await google.colab.output.renderOutput(dataTable, element);\n",
              "          const docLink = document.createElement('div');\n",
              "          docLink.innerHTML = docLinkHtml;\n",
              "          element.appendChild(docLink);\n",
              "        }\n",
              "      </script>\n",
              "    </div>\n",
              "  </div>\n",
              "  "
            ]
          },
          "metadata": {},
          "execution_count": 9
        }
      ]
    },
    {
      "cell_type": "markdown",
      "source": [
        "##  Step 4: Download satellite image"
      ],
      "metadata": {
        "id": "wTeFjtsmHZRq"
      }
    },
    {
      "cell_type": "code",
      "source": [
        "uuid = \"190b3f86-4b0f-448f-a1d9-051dbfdd9e40\"\n",
        "api.download(uuid)"
      ],
      "metadata": {
        "colab": {
          "base_uri": "https://localhost:8080/",
          "height": 327,
          "referenced_widgets": [
            "be349f75dd384a0eb123c1d1d6e6d7fa",
            "3e1fa50f2c73459c8f5643b5d15e112b",
            "49a59474f0f84985b638fb07c888c3e4",
            "18e69b0659bb402398dd37e98c65dd67",
            "994c435d3d734bc5a5a3937a50a579b4",
            "47017c1603b64e2d9b2580bbedc494f3",
            "855c88688c6e441e86736cc0717a6d80",
            "b2ae42d865784e9ab9acfa059083908d",
            "1d2a8b7cec054717bec4a4f1fab66639",
            "d8d43ead53a749ccbfcf23479eaea6a5",
            "bc92bc33d8164cf9b5763586c42d213f",
            "a47d09509a4c470ca19e9a30d7d233b5",
            "0923be9fb163497b8e198e969411a987",
            "2af7a2b1815240d3923de777ad831630",
            "9a127b3d8c4d4d7badbd1026e065c0e6",
            "2fb2dc641c664a2c86bfcb6fb89d4e37",
            "e04ebe49c119485db29517f9bd697905",
            "6b87e9cbb9c14c5da04980c8da39eb69",
            "e88fed9020d2488da6331127fa18e1a1",
            "210a5e69dd5a40bf986cdf827f996f52",
            "dafad45e9073433d97083b944615b1af",
            "8e0a03ec6ce84e019ef061abc3e03337"
          ]
        },
        "id": "upeGqENbXFzS",
        "outputId": "7c90dcff-064c-4d7b-a5c3-bdae340bda5b"
      },
      "execution_count": null,
      "outputs": [
        {
          "output_type": "display_data",
          "data": {
            "text/plain": [
              "Downloading S2B_MSIL2A_20210410T090549_N0300_R050_T35UPQ_20210410T120243.zip:   0%|          | 0.00/1.11G [00:…"
            ],
            "application/vnd.jupyter.widget-view+json": {
              "version_major": 2,
              "version_minor": 0,
              "model_id": "be349f75dd384a0eb123c1d1d6e6d7fa"
            }
          },
          "metadata": {}
        },
        {
          "output_type": "display_data",
          "data": {
            "text/plain": [
              "MD5 checksumming:   0%|          | 0.00/1.11G [00:00<?, ?B/s]"
            ],
            "application/vnd.jupyter.widget-view+json": {
              "version_major": 2,
              "version_minor": 0,
              "model_id": "a47d09509a4c470ca19e9a30d7d233b5"
            }
          },
          "metadata": {}
        },
        {
          "output_type": "execute_result",
          "data": {
            "text/plain": [
              "{'id': '190b3f86-4b0f-448f-a1d9-051dbfdd9e40',\n",
              " 'title': 'S2B_MSIL2A_20210410T090549_N0300_R050_T35UPQ_20210410T120243',\n",
              " 'size': 1107918856,\n",
              " 'md5': 'e30166889940cb75d7a77f8518c987ba',\n",
              " 'date': datetime.datetime(2021, 4, 10, 9, 5, 49, 24000),\n",
              " 'footprint': 'POLYGON((28.3851737331767 49.64443670244057,29.90457276290215 49.61627372192671,29.847478451946774 48.62982157570405,28.35791076985194 48.657027178567795,28.3851737331767 49.64443670244057))',\n",
              " 'url': \"https://scihub.copernicus.eu/dhus/odata/v1/Products('190b3f86-4b0f-448f-a1d9-051dbfdd9e40')/$value\",\n",
              " 'Online': True,\n",
              " 'Creation Date': datetime.datetime(2021, 4, 10, 16, 2, 34, 980000),\n",
              " 'Ingestion Date': datetime.datetime(2021, 4, 10, 16, 2, 34, 980000),\n",
              " 'manifest_name': 'manifest.safe',\n",
              " 'product_root_dir': 'S2B_MSIL2A_20210410T090549_N0300_R050_T35UPQ_20210410T120243.SAFE',\n",
              " 'quicklook_url': \"https://scihub.copernicus.eu/dhus/odata/v1/Products('190b3f86-4b0f-448f-a1d9-051dbfdd9e40')/Products('Quicklook')/$value\",\n",
              " 'path': 'S2B_MSIL2A_20210410T090549_N0300_R050_T35UPQ_20210410T120243.zip',\n",
              " 'downloaded_bytes': 1107918856}"
            ]
          },
          "metadata": {},
          "execution_count": 5
        }
      ]
    },
    {
      "cell_type": "markdown",
      "source": [
        "## Step 5: Unzip satellite image and save to folder"
      ],
      "metadata": {
        "id": "aY_u1kvwQHLW"
      }
    },
    {
      "cell_type": "code",
      "source": [
        "!unzip /content/S2B_MSIL2A_20210410T090549_N0300_R050_T35UPQ_20210410T120243.zip -d ../data/sentinel2/vinnytsia"
      ],
      "metadata": {
        "id": "juJA9bsaZHls"
      },
      "execution_count": null,
      "outputs": []
    },
    {
      "cell_type": "markdown",
      "source": [
        "# Credits"
      ],
      "metadata": {
        "id": "-VY-4etgNccs"
      }
    },
    {
      "cell_type": "markdown",
      "source": [
        "*   Antoine Aubay (2021): Leveraging satellite imagery for machine learning computer vision applications. Available at: https://medium.com/artefact-engineering-and-data-science/leveraging-satellite-imagery-for-machine-learning-computer-vision-applications-d22143f72d94\n",
        "\n"
      ],
      "metadata": {
        "id": "SSgD2vtNNdTB"
      }
    }
  ]
}
