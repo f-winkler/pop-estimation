{
  "nbformat": 4,
  "nbformat_minor": 0,
  "metadata": {
    "colab": {
      "provenance": [],
      "authorship_tag": "ABX9TyPYlXY93AXkrB/bbGpY782M"
    },
    "kernelspec": {
      "name": "python3",
      "display_name": "Python 3"
    },
    "language_info": {
      "name": "python"
    },
    "gpuClass": "standard"
  },
  "cells": [
    {
      "cell_type": "markdown",
      "source": [
        "# Satellite Imagery from Sentinel 2"
      ],
      "metadata": {
        "id": "uC49_kPteBd3"
      }
    },
    {
      "cell_type": "markdown",
      "source": [
        "Before running the notebook, do the following steps first (following instructions and code [here](https://github.com/artefactory/medium_satellite_imagery)):\n",
        "\n",
        "*   create a geojson file of the zone you want a satellite imagery of and save it in 1_collection/city.geojson\n",
        "*   create an account at Coppernicus Open Access Hub. Write the username and the password in a json file and save it in 1_collection/sentinel_api_credentials.json. Format: {\"username\": \"XXXX\", \"password\": \"XXXX\"}\n",
        "\n",
        "\n"
      ],
      "metadata": {
        "id": "WazlAOveN7LF"
      }
    },
    {
      "cell_type": "markdown",
      "source": [
        "## Step 0: Requirements & Dependencies"
      ],
      "metadata": {
        "id": "Gjl_P7lSGI_F"
      }
    },
    {
      "cell_type": "code",
      "execution_count": null,
      "metadata": {
        "colab": {
          "base_uri": "https://localhost:8080/"
        },
        "id": "fBJ1YGU19n0z",
        "outputId": "3edba80a-f0e3-45ea-fcdb-5b95fb5706cd"
      },
      "outputs": [
        {
          "output_type": "stream",
          "name": "stdout",
          "text": [
            "Mounted at /content/drive\n"
          ]
        }
      ],
      "source": [
        "from google.colab import drive\n",
        "drive.mount('/content/drive')"
      ]
    },
    {
      "cell_type": "code",
      "source": [
        "!pip install rasterio\n",
        "!pip install sentinelsat"
      ],
      "metadata": {
        "id": "p66PiaNW-mnE"
      },
      "execution_count": null,
      "outputs": []
    },
    {
      "cell_type": "code",
      "source": [
        "import os \n",
        "import cv2\n",
        "from datetime import date\n",
        "import json\n",
        "import itertools\n",
        "import rasterio\n",
        "import matplotlib.pyplot as plt\n",
        "import numpy as np\n",
        "from sentinelsat import SentinelAPI, read_geojson, geojson_to_wkt\n",
        "import pandas as pd"
      ],
      "metadata": {
        "id": "HJ5WJfov9zOk"
      },
      "execution_count": null,
      "outputs": []
    },
    {
      "cell_type": "markdown",
      "source": [
        "## Step 1: Authentication with Copernicus Open Access Hub"
      ],
      "metadata": {
        "id": "g3RlUinMHSXX"
      }
    },
    {
      "cell_type": "code",
      "source": [
        "with open(\"./sentinel_api_credentials.json\", \"r\") as infile:\n",
        "    credentials = json.load(infile)\n",
        "\n",
        "api = SentinelAPI(credentials[\"username\"], credentials[\"password\"], \"https://scihub.copernicus.eu/dhus\")"
      ],
      "metadata": {
        "id": "8sKc9tJgHYca"
      },
      "execution_count": null,
      "outputs": []
    },
    {
      "cell_type": "markdown",
      "source": [
        "## Step 2: Define area of interest in a geojson file"
      ],
      "metadata": {
        "id": "rmxY1iMHGunG"
      }
    },
    {
      "cell_type": "markdown",
      "source": [
        "A way to specify the zones you want to explore is to provide the API with a geojson file, which is a json containing GPS coordinates position (latitude and longitude) of a zone. Geojson can be quickly created on this [website](https://geojson.io/#map=2/20/0)."
      ],
      "metadata": {
        "id": "aJtiLOOiHgMW"
      }
    },
    {
      "cell_type": "code",
      "source": [
        "geojson_path = \"./lviv.geojson\""
      ],
      "metadata": {
        "id": "77fVu8R3Gh6i"
      },
      "execution_count": null,
      "outputs": []
    },
    {
      "cell_type": "markdown",
      "source": [
        "## Step 3: Query satellite images via Sentinelsat API"
      ],
      "metadata": {
        "id": "4sbiwfWGH9s8"
      }
    },
    {
      "cell_type": "code",
      "source": [
        "shape = geojson_to_wkt(read_geojson(geojson_path))\n",
        "\n",
        "images = api.query(\n",
        "    shape,\n",
        "    date=(date(2021, 9, 1), date(2022, 1, 30)),\n",
        "    platformname=\"Sentinel-2\",\n",
        "    processinglevel = \"Level-2A\",\n",
        "    cloudcoverpercentage=(0, 5)\n",
        ")\n",
        "\n",
        "images_df = api.to_dataframe(images)"
      ],
      "metadata": {
        "id": "mIqJ94auBov3"
      },
      "execution_count": null,
      "outputs": []
    },
    {
      "cell_type": "markdown",
      "source": [
        "We can use the is_online() function from the sentinelsat package to filter the queried images that are available online. A for loop iterates over the images dictionary and checks if each image is online. "
      ],
      "metadata": {
        "id": "GqLjx4_bHNZX"
      }
    },
    {
      "cell_type": "code",
      "source": [
        "online_images = {}\n",
        "for id, item in images.items():\n",
        "    if api.is_online(id):\n",
        "        online_images[id] = item\n",
        "\n",
        "# Convert the filtered images to a dataframe\n",
        "online_images_df = api.to_dataframe(online_images)"
      ],
      "metadata": {
        "id": "QW79HxVWGzbz"
      },
      "execution_count": null,
      "outputs": []
    },
    {
      "cell_type": "code",
      "source": [
        "key_columns = [\"platformserialidentifier\", \"processinglevel\", \"cloudcoverpercentage\", \n",
        "               \"vegetationpercentage\", \"beginposition\"]\n",
        "online_images_df = online_images_df.sort_values(by=['cloudcoverpercentage'], ascending=True)\n",
        "online_images_df[key_columns].head(5)"
      ],
      "metadata": {
        "id": "oZViMzEyHF5K"
      },
      "execution_count": null,
      "outputs": []
    },
    {
      "cell_type": "markdown",
      "source": [
        "##  Step 4: Download satellite image"
      ],
      "metadata": {
        "id": "wTeFjtsmHZRq"
      }
    },
    {
      "cell_type": "code",
      "source": [
        "uuid = \"36e3b1a9-0023-4e2b-adde-ba7f1e5337a3\"\n",
        "api.download(uuid)"
      ],
      "metadata": {
        "colab": {
          "base_uri": "https://localhost:8080/",
          "height": 309,
          "referenced_widgets": [
            "691311c9fb124aaf8e1243f905d84252",
            "44e7d8876cc44921b167223d14d05d6b",
            "b9fce5759aef484fac503972f3d4a3f2",
            "a5de63a30a1b41c59a3b436931550d5a",
            "855600269fdc466093c079c63cd69f76",
            "73a388d07df246cea6a0ad085cd2ecf9",
            "44b2ea86c7444e068ef177177413e33d",
            "ccb00dbbdb5e4d968547e80daad2d0a0",
            "e782d5eb20234c9f872307ba84d13c2f",
            "55ee5284bbcd4e16ba5c26b6c42ca70b",
            "2143c45be56947c2a1f831e184c4270b",
            "26311087425a42d5b4c6e76c8ffbebc9",
            "d9320cd592a04c168df3d7d850ce27a0",
            "9119740278cd41f883c639fbfb79dd18",
            "232d1075f249453880eab1e737aede29",
            "4cc78e6e9562489eaec69ee6638778b3",
            "9dd3c0f11dc444a6ad0c408f9edb4242",
            "e45814c363dc4bfc96caa3db1dade7b7",
            "f6cf44e0a7ff44eba7b26c46d1dfde25",
            "13ce4940b01b463590ebf0fb4bd3ac59",
            "0433bc35a15242639a4b9270d70d2380",
            "639af79a54eb44aa9c8adc19a794adfb"
          ]
        },
        "id": "0TpYI_2ztDm8",
        "outputId": "625af1b3-404a-40e5-a5ce-55184528c442"
      },
      "execution_count": null,
      "outputs": [
        {
          "output_type": "display_data",
          "data": {
            "text/plain": [
              "Downloading S2A_MSIL2A_20211008T093041_N0301_R136_T34UGA_20211008T121442.zip:   0%|          | 0.00/1.16G [00:…"
            ],
            "application/vnd.jupyter.widget-view+json": {
              "version_major": 2,
              "version_minor": 0,
              "model_id": "691311c9fb124aaf8e1243f905d84252"
            }
          },
          "metadata": {}
        },
        {
          "output_type": "display_data",
          "data": {
            "text/plain": [
              "MD5 checksumming:   0%|          | 0.00/1.16G [00:00<?, ?B/s]"
            ],
            "application/vnd.jupyter.widget-view+json": {
              "version_major": 2,
              "version_minor": 0,
              "model_id": "26311087425a42d5b4c6e76c8ffbebc9"
            }
          },
          "metadata": {}
        },
        {
          "output_type": "execute_result",
          "data": {
            "text/plain": [
              "{'id': '36e3b1a9-0023-4e2b-adde-ba7f1e5337a3',\n",
              " 'title': 'S2A_MSIL2A_20211008T093041_N0301_R136_T34UGA_20211008T121442',\n",
              " 'size': 1161828733,\n",
              " 'md5': '97045258b1238b106c0dcf45eed9147b',\n",
              " 'date': datetime.datetime(2021, 10, 8, 9, 30, 41, 24000),\n",
              " 'footprint': 'POLYGON((23.82076894501528 50.51811370350305,25.365742763507004 50.47036063098581,25.277370381662823 49.48562029230301,23.763545147601363 49.53174440621896,23.82076894501528 50.51811370350305))',\n",
              " 'url': \"https://scihub.copernicus.eu/dhus/odata/v1/Products('36e3b1a9-0023-4e2b-adde-ba7f1e5337a3')/$value\",\n",
              " 'Online': True,\n",
              " 'Creation Date': datetime.datetime(2021, 10, 8, 18, 16, 58, 220000),\n",
              " 'Ingestion Date': datetime.datetime(2021, 10, 8, 17, 13, 2, 468000),\n",
              " 'manifest_name': 'manifest.safe',\n",
              " 'product_root_dir': 'S2A_MSIL2A_20211008T093041_N0301_R136_T34UGA_20211008T121442.SAFE',\n",
              " 'quicklook_url': \"https://scihub.copernicus.eu/dhus/odata/v1/Products('36e3b1a9-0023-4e2b-adde-ba7f1e5337a3')/Products('Quicklook')/$value\",\n",
              " 'path': 'S2A_MSIL2A_20211008T093041_N0301_R136_T34UGA_20211008T121442.zip',\n",
              " 'downloaded_bytes': 1161828733}"
            ]
          },
          "metadata": {},
          "execution_count": 12
        }
      ]
    },
    {
      "cell_type": "markdown",
      "source": [
        "## Step 5: Unzip satellite image and save to folder"
      ],
      "metadata": {
        "id": "aY_u1kvwQHLW"
      }
    },
    {
      "cell_type": "code",
      "source": [
        "!unzip /content/S2A_MSIL2A_20211008T093041_N0301_R136_T34UGA_20211008T121442.zip -d ../data/sentinel2/lviv"
      ],
      "metadata": {
        "id": "5cQJ-HPx6rMh"
      },
      "execution_count": null,
      "outputs": []
    },
    {
      "cell_type": "markdown",
      "source": [
        "# Credits"
      ],
      "metadata": {
        "id": "-VY-4etgNccs"
      }
    },
    {
      "cell_type": "markdown",
      "source": [
        "*   Antoine Aubay (2021): Leveraging satellite imagery for machine learning computer vision applications. Available at: https://medium.com/artefact-engineering-and-data-science/leveraging-satellite-imagery-for-machine-learning-computer-vision-applications-d22143f72d94\n",
        "\n"
      ],
      "metadata": {
        "id": "SSgD2vtNNdTB"
      }
    }
  ]
}