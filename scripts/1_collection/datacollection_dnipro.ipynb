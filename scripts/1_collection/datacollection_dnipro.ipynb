{
  "nbformat": 4,
  "nbformat_minor": 0,
  "metadata": {
    "colab": {
      "provenance": [],
      "authorship_tag": "ABX9TyM/Jxtlrw0nHKtLMDGVXMV5"
    },
    "kernelspec": {
      "name": "python3",
      "display_name": "Python 3"
    },
    "language_info": {
      "name": "python"
    },
    "gpuClass": "standard"
  },
  "cells": [
    {
      "cell_type": "markdown",
      "source": [
        "# Satellite Imagery from Sentinel 2"
      ],
      "metadata": {
        "id": "uC49_kPteBd3"
      }
    },
    {
      "cell_type": "markdown",
      "source": [
        "Before running the notebook, do the following steps first (following instructions and code [here](https://github.com/artefactory/medium_satellite_imagery)):\n",
        "\n",
        "*   create a geojson file of the zone you want a satellite imagery of and save it in 1_collection/city.geojson\n",
        "*   create an account at Coppernicus Open Access Hub. Write the username and the password in a json file and save it in 1_collection/sentinel_api_credentials.json. Format: {\"username\": \"XXXX\", \"password\": \"XXXX\"}\n",
        "\n",
        "\n"
      ],
      "metadata": {
        "id": "WazlAOveN7LF"
      }
    },
    {
      "cell_type": "markdown",
      "source": [
        "## Step 0: Requirements & Dependencies"
      ],
      "metadata": {
        "id": "Gjl_P7lSGI_F"
      }
    },
    {
      "cell_type": "code",
      "execution_count": null,
      "metadata": {
        "colab": {
          "base_uri": "https://localhost:8080/"
        },
        "id": "fBJ1YGU19n0z",
        "outputId": "3edba80a-f0e3-45ea-fcdb-5b95fb5706cd"
      },
      "outputs": [
        {
          "output_type": "stream",
          "name": "stdout",
          "text": [
            "Mounted at /content/drive\n"
          ]
        }
      ],
      "source": [
        "from google.colab import drive\n",
        "drive.mount('/content/drive')"
      ]
    },
    {
      "cell_type": "code",
      "source": [
        "!pip install rasterio\n",
        "!pip install sentinelsat"
      ],
      "metadata": {
        "id": "p66PiaNW-mnE"
      },
      "execution_count": null,
      "outputs": []
    },
    {
      "cell_type": "code",
      "source": [
        "import os \n",
        "import cv2\n",
        "from datetime import date\n",
        "import json\n",
        "import itertools\n",
        "import rasterio\n",
        "import matplotlib.pyplot as plt\n",
        "import numpy as np\n",
        "from sentinelsat import SentinelAPI, read_geojson, geojson_to_wkt\n",
        "import pandas as pd"
      ],
      "metadata": {
        "id": "HJ5WJfov9zOk"
      },
      "execution_count": null,
      "outputs": []
    },
    {
      "cell_type": "markdown",
      "source": [
        "## Step 1: Authentication with Copernicus Open Access Hub"
      ],
      "metadata": {
        "id": "g3RlUinMHSXX"
      }
    },
    {
      "cell_type": "code",
      "source": [
        "with open(\"./sentinel_api_credentials.json\", \"r\") as infile:\n",
        "    credentials = json.load(infile)\n",
        "\n",
        "api = SentinelAPI(credentials[\"username\"], credentials[\"password\"], \"https://scihub.copernicus.eu/dhus\")"
      ],
      "metadata": {
        "id": "8sKc9tJgHYca"
      },
      "execution_count": null,
      "outputs": []
    },
    {
      "cell_type": "markdown",
      "source": [
        "## Step 2: Define area of interest in a geojson file"
      ],
      "metadata": {
        "id": "rmxY1iMHGunG"
      }
    },
    {
      "cell_type": "markdown",
      "source": [
        "A way to specify the zones you want to explore is to provide the API with a geojson file, which is a json containing GPS coordinates position (latitude and longitude) of a zone. Geojson can be quickly created on this [website](https://geojson.io/#map=2/20/0)."
      ],
      "metadata": {
        "id": "aJtiLOOiHgMW"
      }
    },
    {
      "cell_type": "code",
      "source": [
        "geojson_path = \"./dnipro.geojson\""
      ],
      "metadata": {
        "id": "77fVu8R3Gh6i"
      },
      "execution_count": null,
      "outputs": []
    },
    {
      "cell_type": "markdown",
      "source": [
        "## Step 3: Query satellite images via Sentinelsat API"
      ],
      "metadata": {
        "id": "4sbiwfWGH9s8"
      }
    },
    {
      "cell_type": "code",
      "source": [
        "shape = geojson_to_wkt(read_geojson(geojson_path))\n",
        "\n",
        "images = api.query(\n",
        "    shape,\n",
        "    date=(date(2021, 7, 1), date(2022, 1, 30)),\n",
        "    platformname=\"Sentinel-2\",\n",
        "    processinglevel = \"Level-2A\",\n",
        "    cloudcoverpercentage=(0, 5)\n",
        ")\n",
        "\n",
        "images_df = api.to_dataframe(images)"
      ],
      "metadata": {
        "id": "mIqJ94auBov3"
      },
      "execution_count": null,
      "outputs": []
    },
    {
      "cell_type": "markdown",
      "source": [
        "We can use the is_online() function from the sentinelsat package to filter the queried images that are available online. A for loop iterates over the images dictionary and checks if each image is online. "
      ],
      "metadata": {
        "id": "GqLjx4_bHNZX"
      }
    },
    {
      "cell_type": "code",
      "source": [
        "online_images = {}\n",
        "for id, item in images.items():\n",
        "    if api.is_online(id):\n",
        "        online_images[id] = item\n",
        "\n",
        "# Convert the filtered images to a dataframe\n",
        "online_images_df = api.to_dataframe(online_images)"
      ],
      "metadata": {
        "id": "QW79HxVWGzbz"
      },
      "execution_count": null,
      "outputs": []
    },
    {
      "cell_type": "code",
      "source": [
        "key_columns = [\"platformserialidentifier\", \"processinglevel\", \"cloudcoverpercentage\", \n",
        "               \"vegetationpercentage\", \"beginposition\"]\n",
        "online_images_df = online_images_df.sort_values(by=['cloudcoverpercentage'], ascending=True)\n",
        "online_images_df[key_columns].head(5)"
      ],
      "metadata": {
        "colab": {
          "base_uri": "https://localhost:8080/",
          "height": 206
        },
        "id": "oZViMzEyHF5K",
        "outputId": "8b55200d-6ebb-4ce5-fed6-a1a4e36eb279"
      },
      "execution_count": null,
      "outputs": [
        {
          "output_type": "execute_result",
          "data": {
            "text/plain": [
              "                                     platformserialidentifier processinglevel  \\\n",
              "cfc78747-a2c3-4a82-bf4b-bd8665d16fac              Sentinel-2B        Level-2A   \n",
              "3e2726a9-4abe-4900-bd04-64ce542bcae3              Sentinel-2B        Level-2A   \n",
              "b53c275f-5f78-4b11-8223-e2c17ae1a9f8              Sentinel-2A        Level-2A   \n",
              "615dc384-9606-4615-8071-be0337f90aee              Sentinel-2A        Level-2A   \n",
              "2912ebbe-9e0f-4fbb-a516-1e7b7a55489a              Sentinel-2B        Level-2A   \n",
              "\n",
              "                                      cloudcoverpercentage  \\\n",
              "cfc78747-a2c3-4a82-bf4b-bd8665d16fac              0.017637   \n",
              "3e2726a9-4abe-4900-bd04-64ce542bcae3              0.018942   \n",
              "b53c275f-5f78-4b11-8223-e2c17ae1a9f8              0.023305   \n",
              "615dc384-9606-4615-8071-be0337f90aee              0.040223   \n",
              "2912ebbe-9e0f-4fbb-a516-1e7b7a55489a              0.089014   \n",
              "\n",
              "                                      vegetationpercentage  \\\n",
              "cfc78747-a2c3-4a82-bf4b-bd8665d16fac             34.068552   \n",
              "3e2726a9-4abe-4900-bd04-64ce542bcae3             45.297468   \n",
              "b53c275f-5f78-4b11-8223-e2c17ae1a9f8             12.639606   \n",
              "615dc384-9606-4615-8071-be0337f90aee             71.198428   \n",
              "2912ebbe-9e0f-4fbb-a516-1e7b7a55489a             68.727303   \n",
              "\n",
              "                                               beginposition  \n",
              "cfc78747-a2c3-4a82-bf4b-bd8665d16fac 2021-10-01 08:47:19.024  \n",
              "3e2726a9-4abe-4900-bd04-64ce542bcae3 2021-09-08 08:35:59.024  \n",
              "b53c275f-5f78-4b11-8223-e2c17ae1a9f8 2021-10-26 08:50:41.024  \n",
              "615dc384-9606-4615-8071-be0337f90aee 2021-07-08 08:46:01.024  \n",
              "2912ebbe-9e0f-4fbb-a516-1e7b7a55489a 2021-07-20 08:35:59.024  "
            ],
            "text/html": [
              "\n",
              "  <div id=\"df-955af643-c2c9-4488-b134-5432efb42582\">\n",
              "    <div class=\"colab-df-container\">\n",
              "      <div>\n",
              "<style scoped>\n",
              "    .dataframe tbody tr th:only-of-type {\n",
              "        vertical-align: middle;\n",
              "    }\n",
              "\n",
              "    .dataframe tbody tr th {\n",
              "        vertical-align: top;\n",
              "    }\n",
              "\n",
              "    .dataframe thead th {\n",
              "        text-align: right;\n",
              "    }\n",
              "</style>\n",
              "<table border=\"1\" class=\"dataframe\">\n",
              "  <thead>\n",
              "    <tr style=\"text-align: right;\">\n",
              "      <th></th>\n",
              "      <th>platformserialidentifier</th>\n",
              "      <th>processinglevel</th>\n",
              "      <th>cloudcoverpercentage</th>\n",
              "      <th>vegetationpercentage</th>\n",
              "      <th>beginposition</th>\n",
              "    </tr>\n",
              "  </thead>\n",
              "  <tbody>\n",
              "    <tr>\n",
              "      <th>cfc78747-a2c3-4a82-bf4b-bd8665d16fac</th>\n",
              "      <td>Sentinel-2B</td>\n",
              "      <td>Level-2A</td>\n",
              "      <td>0.017637</td>\n",
              "      <td>34.068552</td>\n",
              "      <td>2021-10-01 08:47:19.024</td>\n",
              "    </tr>\n",
              "    <tr>\n",
              "      <th>3e2726a9-4abe-4900-bd04-64ce542bcae3</th>\n",
              "      <td>Sentinel-2B</td>\n",
              "      <td>Level-2A</td>\n",
              "      <td>0.018942</td>\n",
              "      <td>45.297468</td>\n",
              "      <td>2021-09-08 08:35:59.024</td>\n",
              "    </tr>\n",
              "    <tr>\n",
              "      <th>b53c275f-5f78-4b11-8223-e2c17ae1a9f8</th>\n",
              "      <td>Sentinel-2A</td>\n",
              "      <td>Level-2A</td>\n",
              "      <td>0.023305</td>\n",
              "      <td>12.639606</td>\n",
              "      <td>2021-10-26 08:50:41.024</td>\n",
              "    </tr>\n",
              "    <tr>\n",
              "      <th>615dc384-9606-4615-8071-be0337f90aee</th>\n",
              "      <td>Sentinel-2A</td>\n",
              "      <td>Level-2A</td>\n",
              "      <td>0.040223</td>\n",
              "      <td>71.198428</td>\n",
              "      <td>2021-07-08 08:46:01.024</td>\n",
              "    </tr>\n",
              "    <tr>\n",
              "      <th>2912ebbe-9e0f-4fbb-a516-1e7b7a55489a</th>\n",
              "      <td>Sentinel-2B</td>\n",
              "      <td>Level-2A</td>\n",
              "      <td>0.089014</td>\n",
              "      <td>68.727303</td>\n",
              "      <td>2021-07-20 08:35:59.024</td>\n",
              "    </tr>\n",
              "  </tbody>\n",
              "</table>\n",
              "</div>\n",
              "      <button class=\"colab-df-convert\" onclick=\"convertToInteractive('df-955af643-c2c9-4488-b134-5432efb42582')\"\n",
              "              title=\"Convert this dataframe to an interactive table.\"\n",
              "              style=\"display:none;\">\n",
              "        \n",
              "  <svg xmlns=\"http://www.w3.org/2000/svg\" height=\"24px\"viewBox=\"0 0 24 24\"\n",
              "       width=\"24px\">\n",
              "    <path d=\"M0 0h24v24H0V0z\" fill=\"none\"/>\n",
              "    <path d=\"M18.56 5.44l.94 2.06.94-2.06 2.06-.94-2.06-.94-.94-2.06-.94 2.06-2.06.94zm-11 1L8.5 8.5l.94-2.06 2.06-.94-2.06-.94L8.5 2.5l-.94 2.06-2.06.94zm10 10l.94 2.06.94-2.06 2.06-.94-2.06-.94-.94-2.06-.94 2.06-2.06.94z\"/><path d=\"M17.41 7.96l-1.37-1.37c-.4-.4-.92-.59-1.43-.59-.52 0-1.04.2-1.43.59L10.3 9.45l-7.72 7.72c-.78.78-.78 2.05 0 2.83L4 21.41c.39.39.9.59 1.41.59.51 0 1.02-.2 1.41-.59l7.78-7.78 2.81-2.81c.8-.78.8-2.07 0-2.86zM5.41 20L4 18.59l7.72-7.72 1.47 1.35L5.41 20z\"/>\n",
              "  </svg>\n",
              "      </button>\n",
              "      \n",
              "  <style>\n",
              "    .colab-df-container {\n",
              "      display:flex;\n",
              "      flex-wrap:wrap;\n",
              "      gap: 12px;\n",
              "    }\n",
              "\n",
              "    .colab-df-convert {\n",
              "      background-color: #E8F0FE;\n",
              "      border: none;\n",
              "      border-radius: 50%;\n",
              "      cursor: pointer;\n",
              "      display: none;\n",
              "      fill: #1967D2;\n",
              "      height: 32px;\n",
              "      padding: 0 0 0 0;\n",
              "      width: 32px;\n",
              "    }\n",
              "\n",
              "    .colab-df-convert:hover {\n",
              "      background-color: #E2EBFA;\n",
              "      box-shadow: 0px 1px 2px rgba(60, 64, 67, 0.3), 0px 1px 3px 1px rgba(60, 64, 67, 0.15);\n",
              "      fill: #174EA6;\n",
              "    }\n",
              "\n",
              "    [theme=dark] .colab-df-convert {\n",
              "      background-color: #3B4455;\n",
              "      fill: #D2E3FC;\n",
              "    }\n",
              "\n",
              "    [theme=dark] .colab-df-convert:hover {\n",
              "      background-color: #434B5C;\n",
              "      box-shadow: 0px 1px 3px 1px rgba(0, 0, 0, 0.15);\n",
              "      filter: drop-shadow(0px 1px 2px rgba(0, 0, 0, 0.3));\n",
              "      fill: #FFFFFF;\n",
              "    }\n",
              "  </style>\n",
              "\n",
              "      <script>\n",
              "        const buttonEl =\n",
              "          document.querySelector('#df-955af643-c2c9-4488-b134-5432efb42582 button.colab-df-convert');\n",
              "        buttonEl.style.display =\n",
              "          google.colab.kernel.accessAllowed ? 'block' : 'none';\n",
              "\n",
              "        async function convertToInteractive(key) {\n",
              "          const element = document.querySelector('#df-955af643-c2c9-4488-b134-5432efb42582');\n",
              "          const dataTable =\n",
              "            await google.colab.kernel.invokeFunction('convertToInteractive',\n",
              "                                                     [key], {});\n",
              "          if (!dataTable) return;\n",
              "\n",
              "          const docLinkHtml = 'Like what you see? Visit the ' +\n",
              "            '<a target=\"_blank\" href=https://colab.research.google.com/notebooks/data_table.ipynb>data table notebook</a>'\n",
              "            + ' to learn more about interactive tables.';\n",
              "          element.innerHTML = '';\n",
              "          dataTable['output_type'] = 'display_data';\n",
              "          await google.colab.output.renderOutput(dataTable, element);\n",
              "          const docLink = document.createElement('div');\n",
              "          docLink.innerHTML = docLinkHtml;\n",
              "          element.appendChild(docLink);\n",
              "        }\n",
              "      </script>\n",
              "    </div>\n",
              "  </div>\n",
              "  "
            ]
          },
          "metadata": {},
          "execution_count": 11
        }
      ]
    },
    {
      "cell_type": "markdown",
      "source": [
        "##  Step 4: Download satellite image"
      ],
      "metadata": {
        "id": "wTeFjtsmHZRq"
      }
    },
    {
      "cell_type": "code",
      "source": [
        "uuid = \"2912ebbe-9e0f-4fbb-a516-1e7b7a55489a\"\n",
        "api.download(uuid)"
      ],
      "metadata": {
        "colab": {
          "base_uri": "https://localhost:8080/",
          "height": 327,
          "referenced_widgets": [
            "18779e9f9e434b929f5498fc6969646d",
            "abe474b8934b46358588e46cb4971c8d",
            "9c1b9f99ca5748538174dcdeee2c3e8d",
            "5166652bb32d406e8d1b84ebdc4d0932",
            "13bc60e7af344c93bdeeae8045238157",
            "2aef0e06212a4afa8fac206b6846c578",
            "42998c6da593430fb79dadb1cd114dac",
            "386d65ba91aa40c28b5c6e6fb575abe8",
            "87cfab8a0b714404b16c252405b438ed",
            "c34d54dd48204d7286ae3256620a8d87",
            "73dda8c57cfb4a6d884097f9f77cbffe",
            "ada5a17a386c4bbf82a8c244e6b78f04",
            "fdbb0f70a9bc4f7dab5331fc98909505",
            "64cbed4641d0457482b6499df4eb951e",
            "f9a2bee0edca4ad18a7d2b72095c89c2",
            "f5c9da2cf978432cb949c467375bb553",
            "19e5c58f556249dc9eba3c213f4faa8f",
            "0be2d175141d4466b8f4ed83f10078ac",
            "79e6058afc1a41008d8c6ce95b18a0c8",
            "4f3b863b13ae40adba522d1491cb58b4",
            "4e2a9d15141d48c59845525628145308",
            "3e9f3e3c48e74243a612155a22ad1b31"
          ]
        },
        "id": "upeGqENbXFzS",
        "outputId": "792f73a1-658a-4c0d-e48b-1ac8c21673b1"
      },
      "execution_count": null,
      "outputs": [
        {
          "output_type": "display_data",
          "data": {
            "text/plain": [
              "Downloading S2B_MSIL2A_20210720T083559_N0301_R064_T36UXU_20210720T113645.zip:   0%|          | 0.00/1.13G [00:…"
            ],
            "application/vnd.jupyter.widget-view+json": {
              "version_major": 2,
              "version_minor": 0,
              "model_id": "18779e9f9e434b929f5498fc6969646d"
            }
          },
          "metadata": {}
        },
        {
          "output_type": "display_data",
          "data": {
            "text/plain": [
              "MD5 checksumming:   0%|          | 0.00/1.13G [00:00<?, ?B/s]"
            ],
            "application/vnd.jupyter.widget-view+json": {
              "version_major": 2,
              "version_minor": 0,
              "model_id": "ada5a17a386c4bbf82a8c244e6b78f04"
            }
          },
          "metadata": {}
        },
        {
          "output_type": "execute_result",
          "data": {
            "text/plain": [
              "{'id': '2912ebbe-9e0f-4fbb-a516-1e7b7a55489a',\n",
              " 'title': 'S2B_MSIL2A_20210720T083559_N0301_R064_T36UXU_20210720T113645',\n",
              " 'size': 1130469573,\n",
              " 'md5': 'a89da5754f9362c4b86980763c9d4987',\n",
              " 'date': datetime.datetime(2021, 7, 20, 8, 35, 59, 24000),\n",
              " 'footprint': 'POLYGON((34.36027924628367 48.74498411169783,35.85243870847307 48.71769475117851,35.79809471530292 47.73104447774509,34.334331348966806 47.75740973734738,34.36027924628367 48.74498411169783))',\n",
              " 'url': \"https://scihub.copernicus.eu/dhus/odata/v1/Products('2912ebbe-9e0f-4fbb-a516-1e7b7a55489a')/$value\",\n",
              " 'Online': True,\n",
              " 'Creation Date': datetime.datetime(2021, 7, 20, 15, 10, 6, 480000),\n",
              " 'Ingestion Date': datetime.datetime(2021, 7, 20, 15, 9, 32, 798000),\n",
              " 'manifest_name': 'manifest.safe',\n",
              " 'product_root_dir': 'S2B_MSIL2A_20210720T083559_N0301_R064_T36UXU_20210720T113645.SAFE',\n",
              " 'quicklook_url': \"https://scihub.copernicus.eu/dhus/odata/v1/Products('2912ebbe-9e0f-4fbb-a516-1e7b7a55489a')/Products('Quicklook')/$value\",\n",
              " 'path': 'S2B_MSIL2A_20210720T083559_N0301_R064_T36UXU_20210720T113645.zip',\n",
              " 'downloaded_bytes': 1130469573}"
            ]
          },
          "metadata": {},
          "execution_count": 16
        }
      ]
    },
    {
      "cell_type": "markdown",
      "source": [
        "## Step 5: Unzip satellite image and save to folder"
      ],
      "metadata": {
        "id": "aY_u1kvwQHLW"
      }
    },
    {
      "cell_type": "code",
      "source": [
        "!unzip /content/S2B_MSIL2A_20210720T083559_N0301_R064_T36UXU_20210720T113645.zip -d ../data/sentinel2/dnipro"
      ],
      "metadata": {
        "id": "juJA9bsaZHls"
      },
      "execution_count": null,
      "outputs": []
    },
    {
      "cell_type": "markdown",
      "source": [
        "# Credits"
      ],
      "metadata": {
        "id": "-VY-4etgNccs"
      }
    },
    {
      "cell_type": "markdown",
      "source": [
        "*   Antoine Aubay (2021): Leveraging satellite imagery for machine learning computer vision applications. Available at: https://medium.com/artefact-engineering-and-data-science/leveraging-satellite-imagery-for-machine-learning-computer-vision-applications-d22143f72d94\n",
        "\n"
      ],
      "metadata": {
        "id": "SSgD2vtNNdTB"
      }
    }
  ]
}